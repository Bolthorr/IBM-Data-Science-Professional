{
 "cells": [
  {
   "cell_type": "markdown",
   "metadata": {},
   "source": [
    "<center>\n",
    "    <img src=\"https://cf-courses-data.s3.us.cloud-object-storage.appdomain.cloud/IBMDeveloperSkillsNetwork-DS0105EN-SkillsNetwork/labs/Module2/images/SN_web_lightmode.png\" width=\"300\" alt=\"cognitiveclass.ai logo\">\n",
    "</center>\n"
   ]
  },
  {
   "cell_type": "markdown",
   "metadata": {},
   "source": [
    "#### Add your code below following the instructions given in the course\n"
   ]
  },
  {
   "cell_type": "markdown",
   "metadata": {},
   "source": [
    "# Tools of Data Science week 4 Peer-Graded Assignment"
   ]
  },
  {
   "cell_type": "markdown",
   "metadata": {},
   "source": [
    "### Introduction: This note book will contain 8 markdown cells and 2 code cells that should fulfill the requirements of the submission guideline."
   ]
  },
  {
   "cell_type": "markdown",
   "metadata": {},
   "source": [
    "Data Science Languages:\n",
    "1. Python\n",
    "2. R\n",
    "3. Java\n",
    "4. JavaScript\n"
   ]
  },
  {
   "cell_type": "markdown",
   "metadata": {},
   "source": [
    "Data Science Libraries:\n",
    "1. TensorFlow\n",
    "2. NumPy\n",
    "3. Pandas\n",
    "4. Keras"
   ]
  },
  {
   "cell_type": "markdown",
   "metadata": {},
   "source": [
    "Data Science Tools:\n",
    "\n",
    "| Tool         | Developer | Suited for |\n",
    "|--------------|:-----:|-----------:|\n",
    "| Apache Spark |  Apache |        continuous intelligence applications |\n",
    "| Matplotlib   |  Micheal Droethboom, et al |          reading, importing, and visualizing data |\n",
    "| Pandas       |  Wes McKinney |        data manipulation and analysis |\n",
    "| NumPy        |  Jim Hugunin |          work with complex arrays and matrices |"
   ]
  },
  {
   "cell_type": "markdown",
   "metadata": {},
   "source": [
    "Mathematical Expressions in Markdown:\n",
    "> $\\sqrt{9x-1}+(4+x)^3$\n",
    "\n",
    "> The above equation uses LaTex syntax\n",
    "\n",
    "> Addition: $a+b$\n",
    "\n",
    "> Subtraction: $a-b$\n",
    "\n",
    "> Multiply: $a*b$\n",
    "\n",
    "> Divide: $a/b$"
   ]
  },
  {
   "cell_type": "code",
   "execution_count": 1,
   "metadata": {},
   "outputs": [
    {
     "data": {
      "text/plain": [
       "26"
      ]
     },
     "execution_count": 1,
     "metadata": {},
     "output_type": "execute_result"
    }
   ],
   "source": [
    "5 * 6 + 5 - 9"
   ]
  },
  {
   "cell_type": "code",
   "execution_count": 3,
   "metadata": {},
   "outputs": [
    {
     "name": "stdout",
     "output_type": "stream",
     "text": [
      "1.0\n"
     ]
    }
   ],
   "source": [
    "minutes = 60\n",
    "hours = minutes / 60\n",
    "print(hours)"
   ]
  },
  {
   "cell_type": "markdown",
   "metadata": {},
   "source": [
    "Objectives:\n",
    "1. Markdown cell with the title of the notebook\n",
    "2. Markdown cell with an introduction\n",
    "3. Markdown cell to list data science languages\n",
    "4. Markdown cell to list data science libraries\n",
    "5. Markdown cell with a table of Data Science tools\n",
    "6. Markdown cell introducing arithmetic expression examples\n",
    "7. Code cell to multiply and add numbers\n",
    "8. Code cell to convert minutes to hours\n",
    "9. Markdown cell to list Objectives\n",
    "10. Markdown cell with the author’s name\n",
    "11. Share the notebook through GitHub\n",
    "12. Post a screenshot of the first page of the notebook"
   ]
  },
  {
   "cell_type": "markdown",
   "metadata": {},
   "source": [
    "## Author of this project: Juno Cappa"
   ]
  }
 ],
 "metadata": {
  "kernelspec": {
   "display_name": "Python",
   "language": "python",
   "name": "conda-env-python-py"
  },
  "language_info": {
   "codemirror_mode": {
    "name": "ipython",
    "version": 3
   },
   "file_extension": ".py",
   "mimetype": "text/x-python",
   "name": "python",
   "nbconvert_exporter": "python",
   "pygments_lexer": "ipython3",
   "version": "3.7.12"
  }
 },
 "nbformat": 4,
 "nbformat_minor": 4
}
